{
 "cells": [
  {
   "cell_type": "code",
   "execution_count": 1,
   "metadata": {},
   "outputs": [],
   "source": [
    "#!conda update -n base -c defaults conda\n",
    "#!conda install -c conda-forge folium=0.5.0 --yes\n",
    "#!conda install -c conda-forge geopy --yes\n",
    "#!conda install -c conda-forge geocoder --yes\n",
    "#from bs4 import BeautifulSoup\n",
    "#from sklearn.cluster import KMeans\n",
    "#import numpy as np\n",
    "#import re\n",
    "#import folium\n",
    "#import os\n",
    "#import matplotlib.cm as cm\n",
    "#import matplotlib.colors as colors\n",
    "#import geocoder"
   ]
  },
  {
   "cell_type": "code",
   "execution_count": 1,
   "metadata": {},
   "outputs": [],
   "source": [
    "from geopy.geocoders import Nominatim\n",
    "import pandas as pd\n",
    "import requests\n",
    "import json"
   ]
  },
  {
   "cell_type": "code",
   "execution_count": 2,
   "metadata": {},
   "outputs": [
    {
     "name": "stdout",
     "output_type": "stream",
     "text": [
      "The geograpical coordinates of New York, NY are 40.7127281, -74.0060152.\n"
     ]
    }
   ],
   "source": [
    "address = 'New York, NY'\n",
    "geolocator = Nominatim(user_agent=\"city_explorer\")\n",
    "location = geolocator.geocode(address)\n",
    "latitude = location.latitude\n",
    "longitude = location.longitude\n",
    "\n",
    "print('The geograpical coordinates of {} are {}, {}.'.format(address, latitude, longitude))"
   ]
  },
  {
   "cell_type": "code",
   "execution_count": 4,
   "metadata": {},
   "outputs": [],
   "source": [
    "local_filepath = '..\\\\foursquare_credentials.txt'\n",
    "f = open(local_filepath, \"r\")\n",
    "contents = f.read()\n",
    "credentials = json.loads(contents)\n",
    "f.close()\n",
    "\n",
    "CLIENT_ID = credentials['CLIENT_ID']\n",
    "CLIENT_SECRET = credentials['CLIENT_SECRET']\n",
    "VERSION = credentials['VERSION']"
   ]
  },
  {
   "cell_type": "code",
   "execution_count": 63,
   "metadata": {},
   "outputs": [],
   "source": [
    "LIMIT = 1000\n",
    "def getNearbyVenues(latitudes, longitudes, radius=500):\n",
    "    \n",
    "    venues_list=[]\n",
    "    for lat, lng in zip(latitudes, longitudes):\n",
    "        \n",
    "        url = 'https://api.foursquare.com/v2/venues/explore?&client_id={}&client_secret={}&v={}&ll={},{}&radius={}&limit={}'.format(\n",
    "            CLIENT_ID, \n",
    "            CLIENT_SECRET, \n",
    "            VERSION, \n",
    "            lat, \n",
    "            lng, \n",
    "            radius, \n",
    "            LIMIT)\n",
    "         \n",
    "        results = requests.get(url).json()[\"response\"][\"groups\"][0][\"items\"]\n",
    "        venues_list.append([(\n",
    "            v['venue']['categories'][0]['name'],\n",
    "            v['venue']['location']['lat'], \n",
    "            v['venue']['location']['lng']) for v in results])\n",
    "\n",
    "    nearby_venues = pd.DataFrame([item for venue_list in venues_list for item in venue_list])\n",
    "    nearby_venues.columns = [ \n",
    "                  'Venue Category',\n",
    "                  'Venue Latitude', \n",
    "                  'Venue Longitude']\n",
    "    return(nearby_venues)"
   ]
  },
  {
   "cell_type": "code",
   "execution_count": 64,
   "metadata": {
    "scrolled": true
   },
   "outputs": [],
   "source": [
    "df = getNearbyVenues([latitude], [longitude])"
   ]
  },
  {
   "cell_type": "code",
   "execution_count": 65,
   "metadata": {
    "scrolled": false
   },
   "outputs": [
    {
     "data": {
      "text/html": [
       "<div>\n",
       "<style scoped>\n",
       "    .dataframe tbody tr th:only-of-type {\n",
       "        vertical-align: middle;\n",
       "    }\n",
       "\n",
       "    .dataframe tbody tr th {\n",
       "        vertical-align: top;\n",
       "    }\n",
       "\n",
       "    .dataframe thead th {\n",
       "        text-align: right;\n",
       "    }\n",
       "</style>\n",
       "<table border=\"1\" class=\"dataframe\">\n",
       "  <thead>\n",
       "    <tr style=\"text-align: right;\">\n",
       "      <th></th>\n",
       "      <th>Venue Category</th>\n",
       "      <th>Venue Latitude</th>\n",
       "      <th>Venue Longitude</th>\n",
       "    </tr>\n",
       "  </thead>\n",
       "  <tbody>\n",
       "    <tr>\n",
       "      <th>0</th>\n",
       "      <td>Hotel Bar</td>\n",
       "      <td>40.711448</td>\n",
       "      <td>-74.006802</td>\n",
       "    </tr>\n",
       "    <tr>\n",
       "      <th>1</th>\n",
       "      <td>Hotel</td>\n",
       "      <td>40.711173</td>\n",
       "      <td>-74.006702</td>\n",
       "    </tr>\n",
       "    <tr>\n",
       "      <th>2</th>\n",
       "      <td>Laundry Service</td>\n",
       "      <td>40.711434</td>\n",
       "      <td>-74.006272</td>\n",
       "    </tr>\n",
       "    <tr>\n",
       "      <th>3</th>\n",
       "      <td>Park</td>\n",
       "      <td>40.712415</td>\n",
       "      <td>-74.006724</td>\n",
       "    </tr>\n",
       "    <tr>\n",
       "      <th>4</th>\n",
       "      <td>Dance Studio</td>\n",
       "      <td>40.713923</td>\n",
       "      <td>-74.005661</td>\n",
       "    </tr>\n",
       "  </tbody>\n",
       "</table>\n",
       "</div>"
      ],
      "text/plain": [
       "    Venue Category  Venue Latitude  Venue Longitude\n",
       "0        Hotel Bar       40.711448       -74.006802\n",
       "1            Hotel       40.711173       -74.006702\n",
       "2  Laundry Service       40.711434       -74.006272\n",
       "3             Park       40.712415       -74.006724\n",
       "4     Dance Studio       40.713923       -74.005661"
      ]
     },
     "execution_count": 65,
     "metadata": {},
     "output_type": "execute_result"
    }
   ],
   "source": [
    "df.head()"
   ]
  },
  {
   "cell_type": "code",
   "execution_count": 66,
   "metadata": {},
   "outputs": [],
   "source": [
    "onehot = pd.get_dummies(df[['Venue Category']], prefix=\"\", prefix_sep=\"\")\n",
    "fixed_columns = list(onehot.columns)#[onehot.columns[-1]] + list(onehot.columns[:-1])\n",
    "onehot = onehot[fixed_columns]"
   ]
  },
  {
   "cell_type": "code",
   "execution_count": 67,
   "metadata": {},
   "outputs": [
    {
     "data": {
      "text/html": [
       "<div>\n",
       "<style scoped>\n",
       "    .dataframe tbody tr th:only-of-type {\n",
       "        vertical-align: middle;\n",
       "    }\n",
       "\n",
       "    .dataframe tbody tr th {\n",
       "        vertical-align: top;\n",
       "    }\n",
       "\n",
       "    .dataframe thead th {\n",
       "        text-align: right;\n",
       "    }\n",
       "</style>\n",
       "<table border=\"1\" class=\"dataframe\">\n",
       "  <thead>\n",
       "    <tr style=\"text-align: right;\">\n",
       "      <th></th>\n",
       "      <th>American Restaurant</th>\n",
       "      <th>Antique Shop</th>\n",
       "      <th>Baby Store</th>\n",
       "      <th>Bakery</th>\n",
       "      <th>Bar</th>\n",
       "      <th>Bookstore</th>\n",
       "      <th>Boxing Gym</th>\n",
       "      <th>Breakfast Spot</th>\n",
       "      <th>Bubble Tea Shop</th>\n",
       "      <th>Building</th>\n",
       "      <th>...</th>\n",
       "      <th>Speakeasy</th>\n",
       "      <th>Sporting Goods Shop</th>\n",
       "      <th>Strip Club</th>\n",
       "      <th>Sushi Restaurant</th>\n",
       "      <th>Taco Place</th>\n",
       "      <th>Vegetarian / Vegan Restaurant</th>\n",
       "      <th>Wine Bar</th>\n",
       "      <th>Wine Shop</th>\n",
       "      <th>Women's Store</th>\n",
       "      <th>Yoga Studio</th>\n",
       "    </tr>\n",
       "  </thead>\n",
       "  <tbody>\n",
       "    <tr>\n",
       "      <th>0</th>\n",
       "      <td>0</td>\n",
       "      <td>0</td>\n",
       "      <td>0</td>\n",
       "      <td>0</td>\n",
       "      <td>0</td>\n",
       "      <td>0</td>\n",
       "      <td>0</td>\n",
       "      <td>0</td>\n",
       "      <td>0</td>\n",
       "      <td>0</td>\n",
       "      <td>...</td>\n",
       "      <td>0</td>\n",
       "      <td>0</td>\n",
       "      <td>0</td>\n",
       "      <td>0</td>\n",
       "      <td>0</td>\n",
       "      <td>0</td>\n",
       "      <td>0</td>\n",
       "      <td>0</td>\n",
       "      <td>0</td>\n",
       "      <td>0</td>\n",
       "    </tr>\n",
       "    <tr>\n",
       "      <th>1</th>\n",
       "      <td>0</td>\n",
       "      <td>0</td>\n",
       "      <td>0</td>\n",
       "      <td>0</td>\n",
       "      <td>0</td>\n",
       "      <td>0</td>\n",
       "      <td>0</td>\n",
       "      <td>0</td>\n",
       "      <td>0</td>\n",
       "      <td>0</td>\n",
       "      <td>...</td>\n",
       "      <td>0</td>\n",
       "      <td>0</td>\n",
       "      <td>0</td>\n",
       "      <td>0</td>\n",
       "      <td>0</td>\n",
       "      <td>0</td>\n",
       "      <td>0</td>\n",
       "      <td>0</td>\n",
       "      <td>0</td>\n",
       "      <td>0</td>\n",
       "    </tr>\n",
       "    <tr>\n",
       "      <th>2</th>\n",
       "      <td>0</td>\n",
       "      <td>0</td>\n",
       "      <td>0</td>\n",
       "      <td>0</td>\n",
       "      <td>0</td>\n",
       "      <td>0</td>\n",
       "      <td>0</td>\n",
       "      <td>0</td>\n",
       "      <td>0</td>\n",
       "      <td>0</td>\n",
       "      <td>...</td>\n",
       "      <td>0</td>\n",
       "      <td>0</td>\n",
       "      <td>0</td>\n",
       "      <td>0</td>\n",
       "      <td>0</td>\n",
       "      <td>0</td>\n",
       "      <td>0</td>\n",
       "      <td>0</td>\n",
       "      <td>0</td>\n",
       "      <td>0</td>\n",
       "    </tr>\n",
       "  </tbody>\n",
       "</table>\n",
       "<p>3 rows × 61 columns</p>\n",
       "</div>"
      ],
      "text/plain": [
       "   American Restaurant  Antique Shop  Baby Store  Bakery  Bar  Bookstore  \\\n",
       "0                    0             0           0       0    0          0   \n",
       "1                    0             0           0       0    0          0   \n",
       "2                    0             0           0       0    0          0   \n",
       "\n",
       "   Boxing Gym  Breakfast Spot  Bubble Tea Shop  Building  ...  Speakeasy  \\\n",
       "0           0               0                0         0  ...          0   \n",
       "1           0               0                0         0  ...          0   \n",
       "2           0               0                0         0  ...          0   \n",
       "\n",
       "   Sporting Goods Shop  Strip Club  Sushi Restaurant  Taco Place  \\\n",
       "0                    0           0                 0           0   \n",
       "1                    0           0                 0           0   \n",
       "2                    0           0                 0           0   \n",
       "\n",
       "   Vegetarian / Vegan Restaurant  Wine Bar  Wine Shop  Women's Store  \\\n",
       "0                              0         0          0              0   \n",
       "1                              0         0          0              0   \n",
       "2                              0         0          0              0   \n",
       "\n",
       "   Yoga Studio  \n",
       "0            0  \n",
       "1            0  \n",
       "2            0  \n",
       "\n",
       "[3 rows x 61 columns]"
      ]
     },
     "execution_count": 67,
     "metadata": {},
     "output_type": "execute_result"
    }
   ],
   "source": [
    "onehot.head(3)"
   ]
  },
  {
   "cell_type": "code",
   "execution_count": 68,
   "metadata": {},
   "outputs": [
    {
     "data": {
      "text/plain": [
       "Index(['American Restaurant', 'Antique Shop', 'Baby Store', 'Bakery', 'Bar',\n",
       "       'Bookstore', 'Boxing Gym', 'Breakfast Spot', 'Bubble Tea Shop',\n",
       "       'Building', 'Burger Joint', 'Burrito Place', 'Café', 'Cocktail Bar',\n",
       "       'Coffee Shop', 'Comic Shop', 'Cosmetics Shop', 'Coworking Space',\n",
       "       'Cuban Restaurant', 'Dance Studio', 'Discount Store',\n",
       "       'Electronics Store', 'Event Space', 'Falafel Restaurant',\n",
       "       'Fast Food Restaurant', 'French Restaurant', 'Furniture / Home Store',\n",
       "       'Greek Restaurant', 'Gym', 'Gym / Fitness Center', 'Hotel', 'Hotel Bar',\n",
       "       'Indian Restaurant', 'Italian Restaurant', 'Japanese Curry Restaurant',\n",
       "       'Japanese Restaurant', 'Juice Bar', 'Laundry Service', 'Liquor Store',\n",
       "       'Martial Arts Dojo', 'Middle Eastern Restaurant',\n",
       "       'Molecular Gastronomy Restaurant', 'Monument / Landmark', 'Nail Salon',\n",
       "       'Park', 'Pizza Place', 'Plaza', 'Restaurant', 'Sandwich Place',\n",
       "       'Shopping Mall', 'Spa', 'Speakeasy', 'Sporting Goods Shop',\n",
       "       'Strip Club', 'Sushi Restaurant', 'Taco Place',\n",
       "       'Vegetarian / Vegan Restaurant', 'Wine Bar', 'Wine Shop',\n",
       "       'Women's Store', 'Yoga Studio'],\n",
       "      dtype='object')"
      ]
     },
     "execution_count": 68,
     "metadata": {},
     "output_type": "execute_result"
    }
   ],
   "source": [
    "onehot.columns"
   ]
  },
  {
   "cell_type": "code",
   "execution_count": 59,
   "metadata": {},
   "outputs": [],
   "source": [
    "file_path = 'C:\\\\Users\\\\gnz5\\\\Downloads\\\\chicago_crime.csv'\n",
    "crime_df = pd.read_csv(file_path)"
   ]
  },
  {
   "cell_type": "code",
   "execution_count": 60,
   "metadata": {},
   "outputs": [],
   "source": [
    "crime_df.dropna(inplace=True)\n",
    "crime_df.reset_index(inplace=True, drop=True);"
   ]
  },
  {
   "cell_type": "code",
   "execution_count": 62,
   "metadata": {
    "scrolled": false
   },
   "outputs": [
    {
     "name": "stdout",
     "output_type": "stream",
     "text": [
      "254366\n"
     ]
    },
    {
     "data": {
      "text/html": [
       "<div>\n",
       "<style scoped>\n",
       "    .dataframe tbody tr th:only-of-type {\n",
       "        vertical-align: middle;\n",
       "    }\n",
       "\n",
       "    .dataframe tbody tr th {\n",
       "        vertical-align: top;\n",
       "    }\n",
       "\n",
       "    .dataframe thead th {\n",
       "        text-align: right;\n",
       "    }\n",
       "</style>\n",
       "<table border=\"1\" class=\"dataframe\">\n",
       "  <thead>\n",
       "    <tr style=\"text-align: right;\">\n",
       "      <th></th>\n",
       "      <th>DATE  OF OCCURRENCE</th>\n",
       "      <th>PRIMARY DESCRIPTION</th>\n",
       "      <th>LOCATION DESCRIPTION</th>\n",
       "      <th>LATITUDE</th>\n",
       "      <th>LONGITUDE</th>\n",
       "    </tr>\n",
       "  </thead>\n",
       "  <tbody>\n",
       "    <tr>\n",
       "      <th>0</th>\n",
       "      <td>6/24/2019 18:24</td>\n",
       "      <td>BATTERY</td>\n",
       "      <td>SIDEWALK</td>\n",
       "      <td>41.753506</td>\n",
       "      <td>-87.665947</td>\n",
       "    </tr>\n",
       "    <tr>\n",
       "      <th>1</th>\n",
       "      <td>12/5/2019 18:43</td>\n",
       "      <td>NARCOTICS</td>\n",
       "      <td>SIDEWALK</td>\n",
       "      <td>41.862559</td>\n",
       "      <td>-87.721771</td>\n",
       "    </tr>\n",
       "    <tr>\n",
       "      <th>2</th>\n",
       "      <td>6/24/2019 11:00</td>\n",
       "      <td>THEFT</td>\n",
       "      <td>STREET</td>\n",
       "      <td>41.992936</td>\n",
       "      <td>-87.700697</td>\n",
       "    </tr>\n",
       "    <tr>\n",
       "      <th>3</th>\n",
       "      <td>11/19/2019 19:20</td>\n",
       "      <td>THEFT</td>\n",
       "      <td>CTA BUS</td>\n",
       "      <td>41.778768</td>\n",
       "      <td>-87.683628</td>\n",
       "    </tr>\n",
       "    <tr>\n",
       "      <th>4</th>\n",
       "      <td>11/19/2019 0:10</td>\n",
       "      <td>BATTERY</td>\n",
       "      <td>APARTMENT</td>\n",
       "      <td>41.883109</td>\n",
       "      <td>-87.760218</td>\n",
       "    </tr>\n",
       "  </tbody>\n",
       "</table>\n",
       "</div>"
      ],
      "text/plain": [
       "  DATE  OF OCCURRENCE  PRIMARY DESCRIPTION  LOCATION DESCRIPTION   LATITUDE  \\\n",
       "0     6/24/2019 18:24              BATTERY              SIDEWALK  41.753506   \n",
       "1     12/5/2019 18:43            NARCOTICS              SIDEWALK  41.862559   \n",
       "2     6/24/2019 11:00                THEFT                STREET  41.992936   \n",
       "3    11/19/2019 19:20                THEFT               CTA BUS  41.778768   \n",
       "4     11/19/2019 0:10              BATTERY             APARTMENT  41.883109   \n",
       "\n",
       "   LONGITUDE  \n",
       "0 -87.665947  \n",
       "1 -87.721771  \n",
       "2 -87.700697  \n",
       "3 -87.683628  \n",
       "4 -87.760218  "
      ]
     },
     "execution_count": 62,
     "metadata": {},
     "output_type": "execute_result"
    }
   ],
   "source": [
    "print(crime_df.shape[0])\n",
    "crime_df.head()"
   ]
  },
  {
   "cell_type": "code",
   "execution_count": null,
   "metadata": {},
   "outputs": [],
   "source": []
  }
 ],
 "metadata": {
  "kernelspec": {
   "display_name": "Python 3",
   "language": "python",
   "name": "python3"
  },
  "language_info": {
   "codemirror_mode": {
    "name": "ipython",
    "version": 3
   },
   "file_extension": ".py",
   "mimetype": "text/x-python",
   "name": "python",
   "nbconvert_exporter": "python",
   "pygments_lexer": "ipython3",
   "version": "3.7.3"
  }
 },
 "nbformat": 4,
 "nbformat_minor": 2
}
