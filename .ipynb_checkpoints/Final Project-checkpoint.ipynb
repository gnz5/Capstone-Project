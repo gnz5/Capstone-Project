{
 "cells": [
  {
   "cell_type": "markdown",
   "metadata": {},
   "source": [
    "# Capstone Project - The Battle of the Neighborhoods"
   ]
  },
  {
   "cell_type": "markdown",
   "metadata": {},
   "source": [
    "## Table of contents\n",
    "* [A. Introduction](#introduction)\n",
    "* [B. Data](#data)\n",
    "* [C. Methodology](#methodology)\n",
    "* [D. Results](#results)\n",
    "* [E. Discussion](#discussion)\n",
    "* [F. Conclusion](#conclusion)"
   ]
  },
  {
   "cell_type": "markdown",
   "metadata": {},
   "source": [
    "## A. Introduction  <a name=\"introduction\"></a>\n",
    "\n",
    "Allocating police resources is a challenging endeavor. It’s likely that certain types of crime occur in certain areas and types of venues. If police had a better idea of where specific crimes, and crime in general occur, they will be able to more efficiently distribute their resources (manpower, equipment, etc.) and implement preventative measures."
   ]
  },
  {
   "cell_type": "code",
   "execution_count": 20,
   "metadata": {},
   "outputs": [],
   "source": [
    "from geopy.geocoders import Nominatim\n",
    "import pandas as pd\n",
    "import requests\n",
    "import json"
   ]
  },
  {
   "cell_type": "code",
   "execution_count": 14,
   "metadata": {},
   "outputs": [
    {
     "name": "stdout",
     "output_type": "stream",
     "text": [
      "The geograpical coordinates of Chicago, IL are 41.8755616, -87.6244212.\n"
     ]
    }
   ],
   "source": [
    "address = 'Chicago, IL'\n",
    "geolocator = Nominatim(user_agent=\"city_explorer\")\n",
    "location = geolocator.geocode(address)\n",
    "latitude = location.latitude\n",
    "longitude = location.longitude\n",
    "\n",
    "print('The geograpical coordinates of {} are {}, {}.'.format(address, latitude, longitude))"
   ]
  },
  {
   "cell_type": "code",
   "execution_count": 15,
   "metadata": {},
   "outputs": [],
   "source": [
    "local_filepath = '..\\\\foursquare_credentials.txt'\n",
    "f = open(local_filepath, \"r\")\n",
    "contents = f.read()\n",
    "credentials = json.loads(contents)\n",
    "f.close()\n",
    "\n",
    "CLIENT_ID = credentials['CLIENT_ID']\n",
    "CLIENT_SECRET = credentials['CLIENT_SECRET']\n",
    "VERSION = credentials['VERSION']"
   ]
  },
  {
   "cell_type": "code",
   "execution_count": 16,
   "metadata": {},
   "outputs": [],
   "source": [
    "LIMIT = 1000\n",
    "def getNearbyVenues(latitudes, longitudes, radius=500):\n",
    "    \n",
    "    venues_list=[]\n",
    "    for lat, lng in zip(latitudes, longitudes):\n",
    "        \n",
    "        url = 'https://api.foursquare.com/v2/venues/explore?&client_id={}&client_secret={}&v={}&ll={},{}&radius={}&limit={}'.format(\n",
    "            CLIENT_ID, \n",
    "            CLIENT_SECRET, \n",
    "            VERSION, \n",
    "            lat, \n",
    "            lng, \n",
    "            radius, \n",
    "            LIMIT)\n",
    "         \n",
    "        results = requests.get(url).json()[\"response\"][\"groups\"][0][\"items\"]\n",
    "        venues_list.append([(\n",
    "            v['venue']['categories'][0]['name'],\n",
    "            v['venue']['location']['lat'], \n",
    "            v['venue']['location']['lng']) for v in results])\n",
    "\n",
    "    nearby_venues = pd.DataFrame([item for venue_list in venues_list for item in venue_list])\n",
    "    nearby_venues.columns = [ \n",
    "                  'Venue Category',\n",
    "                  'Venue Latitude', \n",
    "                  'Venue Longitude']\n",
    "    return(nearby_venues)"
   ]
  },
  {
   "cell_type": "code",
   "execution_count": 17,
   "metadata": {
    "scrolled": true
   },
   "outputs": [],
   "source": [
    "df = getNearbyVenues([latitude], [longitude])"
   ]
  },
  {
   "cell_type": "code",
   "execution_count": 18,
   "metadata": {
    "scrolled": false
   },
   "outputs": [
    {
     "data": {
      "text/html": [
       "<div>\n",
       "<style scoped>\n",
       "    .dataframe tbody tr th:only-of-type {\n",
       "        vertical-align: middle;\n",
       "    }\n",
       "\n",
       "    .dataframe tbody tr th {\n",
       "        vertical-align: top;\n",
       "    }\n",
       "\n",
       "    .dataframe thead th {\n",
       "        text-align: right;\n",
       "    }\n",
       "</style>\n",
       "<table border=\"1\" class=\"dataframe\">\n",
       "  <thead>\n",
       "    <tr style=\"text-align: right;\">\n",
       "      <th></th>\n",
       "      <th>Venue Category</th>\n",
       "      <th>Venue Latitude</th>\n",
       "      <th>Venue Longitude</th>\n",
       "    </tr>\n",
       "  </thead>\n",
       "  <tbody>\n",
       "    <tr>\n",
       "      <th>0</th>\n",
       "      <td>Theater</td>\n",
       "      <td>41.876058</td>\n",
       "      <td>-87.625303</td>\n",
       "    </tr>\n",
       "    <tr>\n",
       "      <th>1</th>\n",
       "      <td>Cuban Restaurant</td>\n",
       "      <td>41.875724</td>\n",
       "      <td>-87.626386</td>\n",
       "    </tr>\n",
       "    <tr>\n",
       "      <th>2</th>\n",
       "      <td>Sushi Restaurant</td>\n",
       "      <td>41.876969</td>\n",
       "      <td>-87.624534</td>\n",
       "    </tr>\n",
       "    <tr>\n",
       "      <th>3</th>\n",
       "      <td>Hostel</td>\n",
       "      <td>41.875757</td>\n",
       "      <td>-87.626537</td>\n",
       "    </tr>\n",
       "    <tr>\n",
       "      <th>4</th>\n",
       "      <td>Donut Shop</td>\n",
       "      <td>41.876768</td>\n",
       "      <td>-87.624575</td>\n",
       "    </tr>\n",
       "  </tbody>\n",
       "</table>\n",
       "</div>"
      ],
      "text/plain": [
       "     Venue Category  Venue Latitude  Venue Longitude\n",
       "0           Theater       41.876058       -87.625303\n",
       "1  Cuban Restaurant       41.875724       -87.626386\n",
       "2  Sushi Restaurant       41.876969       -87.624534\n",
       "3            Hostel       41.875757       -87.626537\n",
       "4        Donut Shop       41.876768       -87.624575"
      ]
     },
     "execution_count": 18,
     "metadata": {},
     "output_type": "execute_result"
    }
   ],
   "source": [
    "df.head()"
   ]
  },
  {
   "cell_type": "code",
   "execution_count": 7,
   "metadata": {},
   "outputs": [],
   "source": [
    "onehot = pd.get_dummies(df[['Venue Category']], prefix=\"\", prefix_sep=\"\")\n",
    "fixed_columns = list(onehot.columns)#[onehot.columns[-1]] + list(onehot.columns[:-1])\n",
    "onehot = onehot[fixed_columns]"
   ]
  },
  {
   "cell_type": "code",
   "execution_count": 8,
   "metadata": {},
   "outputs": [
    {
     "data": {
      "text/html": [
       "<div>\n",
       "<style scoped>\n",
       "    .dataframe tbody tr th:only-of-type {\n",
       "        vertical-align: middle;\n",
       "    }\n",
       "\n",
       "    .dataframe tbody tr th {\n",
       "        vertical-align: top;\n",
       "    }\n",
       "\n",
       "    .dataframe thead th {\n",
       "        text-align: right;\n",
       "    }\n",
       "</style>\n",
       "<table border=\"1\" class=\"dataframe\">\n",
       "  <thead>\n",
       "    <tr style=\"text-align: right;\">\n",
       "      <th></th>\n",
       "      <th>American Restaurant</th>\n",
       "      <th>Antique Shop</th>\n",
       "      <th>Baby Store</th>\n",
       "      <th>Bakery</th>\n",
       "      <th>Bar</th>\n",
       "      <th>Bookstore</th>\n",
       "      <th>Boxing Gym</th>\n",
       "      <th>Breakfast Spot</th>\n",
       "      <th>Bubble Tea Shop</th>\n",
       "      <th>Building</th>\n",
       "      <th>...</th>\n",
       "      <th>Speakeasy</th>\n",
       "      <th>Sporting Goods Shop</th>\n",
       "      <th>Strip Club</th>\n",
       "      <th>Sushi Restaurant</th>\n",
       "      <th>Taco Place</th>\n",
       "      <th>Vegetarian / Vegan Restaurant</th>\n",
       "      <th>Wine Bar</th>\n",
       "      <th>Wine Shop</th>\n",
       "      <th>Women's Store</th>\n",
       "      <th>Yoga Studio</th>\n",
       "    </tr>\n",
       "  </thead>\n",
       "  <tbody>\n",
       "    <tr>\n",
       "      <th>0</th>\n",
       "      <td>0</td>\n",
       "      <td>0</td>\n",
       "      <td>0</td>\n",
       "      <td>0</td>\n",
       "      <td>0</td>\n",
       "      <td>0</td>\n",
       "      <td>0</td>\n",
       "      <td>0</td>\n",
       "      <td>0</td>\n",
       "      <td>0</td>\n",
       "      <td>...</td>\n",
       "      <td>0</td>\n",
       "      <td>0</td>\n",
       "      <td>0</td>\n",
       "      <td>0</td>\n",
       "      <td>0</td>\n",
       "      <td>0</td>\n",
       "      <td>0</td>\n",
       "      <td>0</td>\n",
       "      <td>0</td>\n",
       "      <td>0</td>\n",
       "    </tr>\n",
       "    <tr>\n",
       "      <th>1</th>\n",
       "      <td>0</td>\n",
       "      <td>0</td>\n",
       "      <td>0</td>\n",
       "      <td>0</td>\n",
       "      <td>0</td>\n",
       "      <td>0</td>\n",
       "      <td>0</td>\n",
       "      <td>0</td>\n",
       "      <td>0</td>\n",
       "      <td>0</td>\n",
       "      <td>...</td>\n",
       "      <td>0</td>\n",
       "      <td>0</td>\n",
       "      <td>0</td>\n",
       "      <td>0</td>\n",
       "      <td>0</td>\n",
       "      <td>0</td>\n",
       "      <td>0</td>\n",
       "      <td>0</td>\n",
       "      <td>0</td>\n",
       "      <td>0</td>\n",
       "    </tr>\n",
       "    <tr>\n",
       "      <th>2</th>\n",
       "      <td>0</td>\n",
       "      <td>0</td>\n",
       "      <td>0</td>\n",
       "      <td>0</td>\n",
       "      <td>0</td>\n",
       "      <td>0</td>\n",
       "      <td>0</td>\n",
       "      <td>0</td>\n",
       "      <td>0</td>\n",
       "      <td>0</td>\n",
       "      <td>...</td>\n",
       "      <td>0</td>\n",
       "      <td>0</td>\n",
       "      <td>0</td>\n",
       "      <td>0</td>\n",
       "      <td>0</td>\n",
       "      <td>0</td>\n",
       "      <td>0</td>\n",
       "      <td>0</td>\n",
       "      <td>0</td>\n",
       "      <td>0</td>\n",
       "    </tr>\n",
       "  </tbody>\n",
       "</table>\n",
       "<p>3 rows × 61 columns</p>\n",
       "</div>"
      ],
      "text/plain": [
       "   American Restaurant  Antique Shop  Baby Store  Bakery  Bar  Bookstore  \\\n",
       "0                    0             0           0       0    0          0   \n",
       "1                    0             0           0       0    0          0   \n",
       "2                    0             0           0       0    0          0   \n",
       "\n",
       "   Boxing Gym  Breakfast Spot  Bubble Tea Shop  Building  ...  Speakeasy  \\\n",
       "0           0               0                0         0  ...          0   \n",
       "1           0               0                0         0  ...          0   \n",
       "2           0               0                0         0  ...          0   \n",
       "\n",
       "   Sporting Goods Shop  Strip Club  Sushi Restaurant  Taco Place  \\\n",
       "0                    0           0                 0           0   \n",
       "1                    0           0                 0           0   \n",
       "2                    0           0                 0           0   \n",
       "\n",
       "   Vegetarian / Vegan Restaurant  Wine Bar  Wine Shop  Women's Store  \\\n",
       "0                              0         0          0              0   \n",
       "1                              0         0          0              0   \n",
       "2                              0         0          0              0   \n",
       "\n",
       "   Yoga Studio  \n",
       "0            0  \n",
       "1            0  \n",
       "2            0  \n",
       "\n",
       "[3 rows x 61 columns]"
      ]
     },
     "execution_count": 8,
     "metadata": {},
     "output_type": "execute_result"
    }
   ],
   "source": [
    "onehot.head(3)"
   ]
  },
  {
   "cell_type": "code",
   "execution_count": 9,
   "metadata": {},
   "outputs": [
    {
     "data": {
      "text/plain": [
       "Index(['American Restaurant', 'Antique Shop', 'Baby Store', 'Bakery', 'Bar',\n",
       "       'Bookstore', 'Boxing Gym', 'Breakfast Spot', 'Bubble Tea Shop',\n",
       "       'Building', 'Burger Joint', 'Burrito Place', 'Café', 'Cocktail Bar',\n",
       "       'Coffee Shop', 'Comic Shop', 'Cosmetics Shop', 'Coworking Space',\n",
       "       'Cuban Restaurant', 'Dance Studio', 'Discount Store',\n",
       "       'Electronics Store', 'Event Space', 'Falafel Restaurant',\n",
       "       'Fast Food Restaurant', 'French Restaurant', 'Furniture / Home Store',\n",
       "       'Greek Restaurant', 'Gym', 'Gym / Fitness Center', 'Hotel', 'Hotel Bar',\n",
       "       'Indian Restaurant', 'Italian Restaurant', 'Japanese Curry Restaurant',\n",
       "       'Japanese Restaurant', 'Juice Bar', 'Laundry Service', 'Liquor Store',\n",
       "       'Martial Arts Dojo', 'Middle Eastern Restaurant',\n",
       "       'Molecular Gastronomy Restaurant', 'Monument / Landmark', 'Nail Salon',\n",
       "       'Park', 'Pizza Place', 'Plaza', 'Restaurant', 'Sandwich Place',\n",
       "       'Shopping Mall', 'Spa', 'Speakeasy', 'Sporting Goods Shop',\n",
       "       'Strip Club', 'Sushi Restaurant', 'Taco Place',\n",
       "       'Vegetarian / Vegan Restaurant', 'Wine Bar', 'Wine Shop',\n",
       "       'Women's Store', 'Yoga Studio'],\n",
       "      dtype='object')"
      ]
     },
     "execution_count": 9,
     "metadata": {},
     "output_type": "execute_result"
    }
   ],
   "source": [
    "onehot.columns"
   ]
  },
  {
   "cell_type": "markdown",
   "metadata": {},
   "source": [
    "##  B. Data <a name=\"data\"></a>\n",
    "\n",
    "The venue category data for venues in Chicago, IL will be used with crime data downloaded from the Chicago municipal website to find what venues types are most likely to have each type of crime occur there. In addition, for each venue category, what types of crime are most likely to occur there will also be determined.\n",
    "\n",
    "https://data.cityofchicago.org/Public-Safety/Crimes-Map/dfnk-7re6"
   ]
  },
  {
   "cell_type": "code",
   "execution_count": 11,
   "metadata": {},
   "outputs": [],
   "source": [
    "file_path = 'chicago_crime.csv'\n",
    "crime_df = pd.read_csv(file_path)"
   ]
  },
  {
   "cell_type": "code",
   "execution_count": 12,
   "metadata": {},
   "outputs": [],
   "source": [
    "crime_df.dropna(inplace=True)\n",
    "crime_df.reset_index(inplace=True, drop=True);"
   ]
  },
  {
   "cell_type": "code",
   "execution_count": 13,
   "metadata": {
    "scrolled": false
   },
   "outputs": [
    {
     "name": "stdout",
     "output_type": "stream",
     "text": [
      "254366\n"
     ]
    },
    {
     "data": {
      "text/html": [
       "<div>\n",
       "<style scoped>\n",
       "    .dataframe tbody tr th:only-of-type {\n",
       "        vertical-align: middle;\n",
       "    }\n",
       "\n",
       "    .dataframe tbody tr th {\n",
       "        vertical-align: top;\n",
       "    }\n",
       "\n",
       "    .dataframe thead th {\n",
       "        text-align: right;\n",
       "    }\n",
       "</style>\n",
       "<table border=\"1\" class=\"dataframe\">\n",
       "  <thead>\n",
       "    <tr style=\"text-align: right;\">\n",
       "      <th></th>\n",
       "      <th>DATE  OF OCCURRENCE</th>\n",
       "      <th>PRIMARY DESCRIPTION</th>\n",
       "      <th>LOCATION DESCRIPTION</th>\n",
       "      <th>LATITUDE</th>\n",
       "      <th>LONGITUDE</th>\n",
       "    </tr>\n",
       "  </thead>\n",
       "  <tbody>\n",
       "    <tr>\n",
       "      <th>0</th>\n",
       "      <td>6/24/2019 18:24</td>\n",
       "      <td>BATTERY</td>\n",
       "      <td>SIDEWALK</td>\n",
       "      <td>41.753506</td>\n",
       "      <td>-87.665947</td>\n",
       "    </tr>\n",
       "    <tr>\n",
       "      <th>1</th>\n",
       "      <td>12/5/2019 18:43</td>\n",
       "      <td>NARCOTICS</td>\n",
       "      <td>SIDEWALK</td>\n",
       "      <td>41.862559</td>\n",
       "      <td>-87.721771</td>\n",
       "    </tr>\n",
       "    <tr>\n",
       "      <th>2</th>\n",
       "      <td>6/24/2019 11:00</td>\n",
       "      <td>THEFT</td>\n",
       "      <td>STREET</td>\n",
       "      <td>41.992936</td>\n",
       "      <td>-87.700697</td>\n",
       "    </tr>\n",
       "    <tr>\n",
       "      <th>3</th>\n",
       "      <td>11/19/2019 19:20</td>\n",
       "      <td>THEFT</td>\n",
       "      <td>CTA BUS</td>\n",
       "      <td>41.778768</td>\n",
       "      <td>-87.683628</td>\n",
       "    </tr>\n",
       "    <tr>\n",
       "      <th>4</th>\n",
       "      <td>11/19/2019 0:10</td>\n",
       "      <td>BATTERY</td>\n",
       "      <td>APARTMENT</td>\n",
       "      <td>41.883109</td>\n",
       "      <td>-87.760218</td>\n",
       "    </tr>\n",
       "  </tbody>\n",
       "</table>\n",
       "</div>"
      ],
      "text/plain": [
       "  DATE  OF OCCURRENCE  PRIMARY DESCRIPTION  LOCATION DESCRIPTION   LATITUDE  \\\n",
       "0     6/24/2019 18:24              BATTERY              SIDEWALK  41.753506   \n",
       "1     12/5/2019 18:43            NARCOTICS              SIDEWALK  41.862559   \n",
       "2     6/24/2019 11:00                THEFT                STREET  41.992936   \n",
       "3    11/19/2019 19:20                THEFT               CTA BUS  41.778768   \n",
       "4     11/19/2019 0:10              BATTERY             APARTMENT  41.883109   \n",
       "\n",
       "   LONGITUDE  \n",
       "0 -87.665947  \n",
       "1 -87.721771  \n",
       "2 -87.700697  \n",
       "3 -87.683628  \n",
       "4 -87.760218  "
      ]
     },
     "execution_count": 13,
     "metadata": {},
     "output_type": "execute_result"
    }
   ],
   "source": [
    "print(crime_df.shape[0])\n",
    "crime_df.head()"
   ]
  },
  {
   "cell_type": "markdown",
   "metadata": {},
   "source": [
    "## C. Methodology <a name=\"methodology\"></a>\n",
    "\n",
    "To be added in week 5"
   ]
  },
  {
   "cell_type": "markdown",
   "metadata": {},
   "source": [
    "##  D. Results <a name=\"results\"></a>\n",
    "\n",
    "To be added in week 5"
   ]
  },
  {
   "cell_type": "markdown",
   "metadata": {},
   "source": [
    "##  E. Discussion <a name=\"discussion\"></a>\n",
    "\n",
    "To be added in week 5"
   ]
  },
  {
   "cell_type": "markdown",
   "metadata": {},
   "source": [
    "## F. Conclusion <a name=\"conclusion\"></a>\n",
    "\n",
    "To be added in week 5"
   ]
  }
 ],
 "metadata": {
  "kernelspec": {
   "display_name": "Python 3",
   "language": "python",
   "name": "python3"
  },
  "language_info": {
   "codemirror_mode": {
    "name": "ipython",
    "version": 3
   },
   "file_extension": ".py",
   "mimetype": "text/x-python",
   "name": "python",
   "nbconvert_exporter": "python",
   "pygments_lexer": "ipython3",
   "version": "3.7.3"
  }
 },
 "nbformat": 4,
 "nbformat_minor": 2
}
